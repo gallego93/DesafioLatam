{
 "cells": [
  {
   "cell_type": "markdown",
   "metadata": {},
   "source": [
    "#<font color = 'yellow'>Calculandoelsalariosemanal</font>\n",
    "\n",
    "Un vendedor gana un salario base de $500 más una comisión del 10% sobre sus ventas totales.\n",
    "Escribe un programa donde se pueda ingresar el monto de las ventas totales del vendedor y calcule su salario total."
   ]
  },
  {
   "cell_type": "code",
   "execution_count": 14,
   "metadata": {},
   "outputs": [
    {
     "name": "stdout",
     "output_type": "stream",
     "text": [
      "El salario total es: 600.00 usd\n"
     ]
    }
   ],
   "source": [
    "# salario base\n",
    "salario_base = 500\n",
    "\n",
    "# comision\n",
    "porcentaje_comision = float(0.10)\n",
    "\n",
    "# Solicitar al usuario el monto total de las ventas\n",
    "ventas_totales = int(input(\"Ventas Totales: \"))\n",
    "\n",
    "# Se calcula el porcentaje de acuerdo al total de las ventas\n",
    "comision = ventas_totales * porcentaje_comision\n",
    "\n",
    "# Se realiza la suma del salario base y del total de las comisiones\n",
    "salario_total = salario_base + comision\n",
    "\n",
    "# Se muestra al usuario el total de la suma del salario base y las comisiones\n",
    "print(f\"El salario total es: {salario_total:.2f} usd\")\n"
   ]
  },
  {
   "cell_type": "markdown",
   "metadata": {},
   "source": [
    "<font color = 'blue'>Bienvenido ala frutería virtual</font>\n",
    "\n",
    "En este ejercicio, vamos a crear un diccionario vacío llamado catalogo_frutas {'fruta':precio} y agregar algunas frutas con sus precios. Luego,le pediremos al usuario que ingrese el nombre de una fruta y verificaremos si esa fruta está en el diccionario. Si la fruta está en el diccionario, mostraremos el precio al usuario. Si la fruta no está en el diccionario, le diremos al usuario que no se encuentra esa fruta en nuestra tienda."
   ]
  },
  {
   "cell_type": "code",
   "execution_count": 30,
   "metadata": {},
   "outputs": [
    {
     "name": "stdout",
     "output_type": "stream",
     "text": [
      "Esta fruta no se encuentra en nuestra tienda!\n"
     ]
    }
   ],
   "source": [
    "#Creamos el diccionario vacio\n",
    "catalogo_frutas = {}\n",
    "\n",
    "#Agregamos algunas furtas con sus respetivos precios {'fruta':precio}\n",
    "catalogo_frutas['manzana'] = \"2.500\" \n",
    "catalogo_frutas['banano'] = \"500\"\n",
    "catalogo_frutas['pera'] = \"1.800\"\n",
    "catalogo_frutas['sandia'] = \"15.000\"\n",
    "catalogo_frutas['uvas'] = \"6.000\" \n",
    "\n",
    "#Solicitamos al usuario ingresar el nombre de una fruta\n",
    "nombre_fruta = str(input(\"Ingrese el nombre de una fruta: \"))\n",
    "\n",
    "#Se valida la existencia de la fruta en el diccionario, de no existir se muestra el muestra un mensaje al usuario\n",
    "print(catalogo_frutas.get(nombre_fruta, 'Esta fruta no se encuentra en nuestra tienda!'))"
   ]
  },
  {
   "cell_type": "markdown",
   "metadata": {},
   "source": [
    "<font color = 'red'>Bienvenido al casino</font>\n",
    "\n",
    "En este juego tienes que lanzar dos dados y el programa mostrará los valores obtenidos en cada dado y la suma de ambos valores. Debes generar dos números aleatorios entre 1 y 6 que representan los valores obtenidos en cada dado usando la librería random. Luego, el programa debe mostrar los valores obtenidos en cada dado y la suma de ambos valores en la pantalla."
   ]
  },
  {
   "cell_type": "code",
   "execution_count": 64,
   "metadata": {},
   "outputs": [
    {
     "name": "stdout",
     "output_type": "stream",
     "text": [
      "Dado numero 1: 2\n",
      "Dado numero 2: 6\n",
      "La sumas de los valores de ambos dados es: 8\n"
     ]
    }
   ],
   "source": [
    "#Importamos la libreria random para generar los numeros aleatoreos\n",
    "import random\n",
    "\n",
    "#Obtenemos un numero para el dado numero 1\n",
    "dado_1 = random.randint(1, 6)\n",
    "\n",
    "#Imprimimos el valor obtenido para el dado numero 1\n",
    "print(f\"Dado numero 1: {dado_1}\")\n",
    "\n",
    "#Obtenemos un numero para el daod numero 2\n",
    "dado_2 = random.randint(1, 6)\n",
    "\n",
    "#Imprimimos el valor obtenido para el dado numero dos\n",
    "print(f\"Dado numero 2: {dado_2}\")\n",
    "\n",
    "#Realizamos la sumas de los valores de ambos dados\n",
    "suma_dados = dado_1+ dado_2\n",
    "\n",
    "#Mostramos al usuario la suma de los valores de ambos dados\n",
    "print(f\"La sumas de los valores de ambos dados es: {suma_dados}\")\n",
    "\n"
   ]
  },
  {
   "cell_type": "markdown",
   "metadata": {},
   "source": [
    "<font color = 'green'>Calculadora de chocolate</font>\n",
    "\n",
    "Crea un programa que calcule la cantidad de chocolate que puedes comer sin pasarte de tu límite diario de calorías. El programa debe preguntar al usuario su límite diario de calorías y la cantidad de calorías que tiene una porción de chocolate. Luego, debe calcular la cantidad máxima de chocolate que se puede comer sin exceder el límite diario de calorías y mostrarla en pantalla."
   ]
  },
  {
   "cell_type": "code",
   "execution_count": 11,
   "metadata": {},
   "outputs": [
    {
     "name": "stdout",
     "output_type": "stream",
     "text": [
      "2.5\n"
     ]
    }
   ],
   "source": [
    "#Se consulta al usuario cual es su limite diario de calorias\n",
    "limite_calorias = int(input(\"Cual es su limite diario de calorias: \"))\n",
    "\n",
    "#Se solicita al usuario ingresar la cantida de calorias que tiene una porcion de chocolate\n",
    "calorias_chocolate = int(input(\"Ingrese el numero de calorias de una porcion de chocolate: \"))\n",
    "\n",
    "#Se calcula la cantidad de chocolate que se puede comer teniendo en cuenta las variables limite_calorias\n",
    "#y calorias_chocolate\n",
    "cantidad_chocolate = (limite_calorias / calorias_chocolate)\n",
    "\n",
    "#Se muestra al usurio la cantidad de porciones de chocolate que se puede comer\n",
    "print(cantidad_chocolate)"
   ]
  }
 ],
 "metadata": {
  "kernelspec": {
   "display_name": "Python 3",
   "language": "python",
   "name": "python3"
  },
  "language_info": {
   "codemirror_mode": {
    "name": "ipython",
    "version": 3
   },
   "file_extension": ".py",
   "mimetype": "text/x-python",
   "name": "python",
   "nbconvert_exporter": "python",
   "pygments_lexer": "ipython3",
   "version": "3.10.12"
  }
 },
 "nbformat": 4,
 "nbformat_minor": 2
}
